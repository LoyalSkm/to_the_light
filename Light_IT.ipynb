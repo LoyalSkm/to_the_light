{
 "cells": [
  {
   "cell_type": "code",
   "execution_count": 5,
   "metadata": {},
   "outputs": [],
   "source": [
    "def func(array):\n",
    "    new_li=[]\n",
    "    for item in array:\n",
    "        try:\n",
    "            if item.isalpha():\n",
    "                new_li.append(item.lower())\n",
    "        except AttributeError:\n",
    "            new_li.append(item)\n",
    "            \n",
    "    return 2 in [new_li.count(i) for i in new_li]"
   ]
  },
  {
   "cell_type": "code",
   "execution_count": null,
   "metadata": {},
   "outputs": [],
   "source": []
  }
 ],
 "metadata": {
  "kernelspec": {
   "display_name": "Python 3",
   "language": "python",
   "name": "python3"
  },
  "language_info": {
   "codemirror_mode": {
    "name": "ipython",
    "version": 3
   },
   "file_extension": ".py",
   "mimetype": "text/x-python",
   "name": "python",
   "nbconvert_exporter": "python",
   "pygments_lexer": "ipython3",
   "version": "3.7.3"
  }
 },
 "nbformat": 4,
 "nbformat_minor": 2
}
